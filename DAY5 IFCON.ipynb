{
 "cells": [
  {
   "cell_type": "code",
   "execution_count": null,
   "id": "edc05bfd-e664-4771-a6a4-23274be5f0e5",
   "metadata": {},
   "outputs": [],
   "source": []
  },
  {
   "cell_type": "code",
   "execution_count": 7,
   "id": "69cf352c-e831-4c2f-8238-1c0d0cd3cbc4",
   "metadata": {},
   "outputs": [
    {
     "name": "stdin",
     "output_type": "stream",
     "text": [
      " 19\n"
     ]
    },
    {
     "name": "stdout",
     "output_type": "stream",
     "text": [
      "You are eligible\n"
     ]
    }
   ],
   "source": [
    "age = int(input())\n",
    "\n",
    "# Now use if else\n",
    "\n",
    "if age > 18:\n",
    "    print(\"You are eligible\")\n",
    "# Else will be executed when if condition is false\n",
    "else:\n",
    "    print(\"wait till you turn 18\")"
   ]
  },
  {
   "cell_type": "code",
   "execution_count": 2,
   "id": "51ccbf49-43cb-4bab-9249-d2d09ec04128",
   "metadata": {},
   "outputs": [
    {
     "data": {
      "text/plain": [
       "17"
      ]
     },
     "execution_count": 2,
     "metadata": {},
     "output_type": "execute_result"
    }
   ],
   "source": []
  },
  {
   "cell_type": "code",
   "execution_count": 7,
   "id": "5df0f5a5-6687-4a6c-9c7a-128844fe6b80",
   "metadata": {},
   "outputs": [
    {
     "name": "stdin",
     "output_type": "stream",
     "text": [
      " 17\n"
     ]
    },
    {
     "name": "stdout",
     "output_type": "stream",
     "text": [
      "wait till you turn 18\n"
     ]
    }
   ],
   "source": [
    "age = int(input())\n",
    "\n",
    "# Check if age is >18\n",
    "\n",
    "if age > 18:\n",
    "    # if age is >= 65 \n",
    "    if age >= 65:\n",
    "        print(\"take rest\")\n",
    "    # if age is less than 65\n",
    "    else:\n",
    "        print(\"You are eligible\")\n",
    "        print(\"Drive slow\")\n",
    "# else: age < 18 \n",
    "else:\n",
    "    print(\"wait till you turn 18\")\n",
    "        "
   ]
  },
  {
   "cell_type": "code",
   "execution_count": null,
   "id": "15542e32-1740-4a45-a789-973054e51856",
   "metadata": {},
   "outputs": [],
   "source": []
  },
  {
   "cell_type": "code",
   "execution_count": 23,
   "id": "b967c634-7b16-4dc5-8c9b-aed047d1a671",
   "metadata": {},
   "outputs": [
    {
     "name": "stdin",
     "output_type": "stream",
     "text": [
      " 0\n"
     ]
    },
    {
     "name": "stdout",
     "output_type": "stream",
     "text": [
      "zero\n"
     ]
    }
   ],
   "source": [
    "num = int(input())\n",
    "\n",
    "if num > 0:\n",
    "    print(\"positive\")\n",
    "if num == 0:\n",
    "    print(\"zero\")\n",
    "else:\n",
    "    print(\"Negative\")"
   ]
  },
  {
   "cell_type": "code",
   "execution_count": null,
   "id": "3706547e-edd7-451a-9352-5639fe635dc3",
   "metadata": {},
   "outputs": [],
   "source": []
  },
  {
   "cell_type": "code",
   "execution_count": 19,
   "id": "24a8545a-d3c8-42bc-8409-532794e1bbfd",
   "metadata": {},
   "outputs": [
    {
     "name": "stdout",
     "output_type": "stream",
     "text": [
      "positive\n"
     ]
    }
   ],
   "source": [
    "if num > 0:\n",
    "    print(\"positive\")\n",
    "elif num == 0:\n",
    "    print(\"zero\")\n",
    "else:\n",
    "    print(\"Negative\")"
   ]
  },
  {
   "cell_type": "code",
   "execution_count": null,
   "id": "8d74dc47-0aee-479a-b92c-9506a2abcf50",
   "metadata": {},
   "outputs": [],
   "source": []
  }
 ],
 "metadata": {
  "kernelspec": {
   "display_name": "Python 3 (ipykernel)",
   "language": "python",
   "name": "python3"
  },
  "language_info": {
   "codemirror_mode": {
    "name": "ipython",
    "version": 3
   },
   "file_extension": ".py",
   "mimetype": "text/x-python",
   "name": "python",
   "nbconvert_exporter": "python",
   "pygments_lexer": "ipython3",
   "version": "3.11.7"
  }
 },
 "nbformat": 4,
 "nbformat_minor": 5
}
