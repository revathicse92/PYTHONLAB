{
 "cells": [
  {
   "cell_type": "code",
   "execution_count": 1,
   "id": "5668080e-2029-435b-95b3-21c3cf990783",
   "metadata": {},
   "outputs": [
    {
     "data": {
      "text/plain": [
       "'R'"
      ]
     },
     "execution_count": 1,
     "metadata": {},
     "output_type": "execute_result"
    }
   ],
   "source": [
    "name = \"Rahul janhu\"\n",
    "name[0]"
   ]
  },
  {
   "cell_type": "code",
   "execution_count": 3,
   "id": "ee22eb02-2f49-45ff-8970-d3884306f483",
   "metadata": {},
   "outputs": [
    {
     "data": {
      "text/plain": [
       "'Ra'"
      ]
     },
     "execution_count": 3,
     "metadata": {},
     "output_type": "execute_result"
    }
   ],
   "source": [
    "name[0:2]"
   ]
  },
  {
   "cell_type": "code",
   "execution_count": 5,
   "id": "6989d1d1-7cb5-4e32-815e-0e9e6ef63959",
   "metadata": {},
   "outputs": [
    {
     "data": {
      "text/plain": [
       "'hul janhu'"
      ]
     },
     "execution_count": 5,
     "metadata": {},
     "output_type": "execute_result"
    }
   ],
   "source": [
    "size = len(name)\n",
    "name[2:size]"
   ]
  },
  {
   "cell_type": "code",
   "execution_count": 7,
   "id": "779f230f-015f-42a4-864c-96e252458fb7",
   "metadata": {},
   "outputs": [
    {
     "data": {
      "text/plain": [
       "'Rahul janhu'"
      ]
     },
     "execution_count": 7,
     "metadata": {},
     "output_type": "execute_result"
    }
   ],
   "source": [
    "name[:]"
   ]
  },
  {
   "cell_type": "code",
   "execution_count": 9,
   "id": "76a2aebb-bd52-450b-97f2-31b566d801b1",
   "metadata": {},
   "outputs": [
    {
     "data": {
      "text/plain": [
       "'Rhljnu'"
      ]
     },
     "execution_count": 9,
     "metadata": {},
     "output_type": "execute_result"
    }
   ],
   "source": [
    "name[::2]"
   ]
  },
  {
   "cell_type": "code",
   "execution_count": 11,
   "id": "a02afe6b-5648-4903-b616-8f3d345df720",
   "metadata": {},
   "outputs": [
    {
     "data": {
      "text/plain": [
       "'Rahul janh'"
      ]
     },
     "execution_count": 11,
     "metadata": {},
     "output_type": "execute_result"
    }
   ],
   "source": [
    "name[:-1\n",
    "]"
   ]
  },
  {
   "cell_type": "code",
   "execution_count": 13,
   "id": "5cace0b6-c9f9-4fab-b56d-7710f864a1d7",
   "metadata": {},
   "outputs": [
    {
     "data": {
      "text/plain": [
       "'h'"
      ]
     },
     "execution_count": 13,
     "metadata": {},
     "output_type": "execute_result"
    }
   ],
   "source": [
    "name[-2]"
   ]
  },
  {
   "cell_type": "code",
   "execution_count": 15,
   "id": "b1e6a5a5-5641-4951-8920-3cf86d359dea",
   "metadata": {},
   "outputs": [
    {
     "data": {
      "text/plain": [
       "''"
      ]
     },
     "execution_count": 15,
     "metadata": {},
     "output_type": "execute_result"
    }
   ],
   "source": [
    "name[1:-2:-1]"
   ]
  },
  {
   "cell_type": "code",
   "execution_count": 24,
   "id": "8b109aa0-e120-4e3c-b2d1-2c3dca850eb6",
   "metadata": {},
   "outputs": [
    {
     "data": {
      "text/plain": [
       "'Revathi selvakumar'"
      ]
     },
     "execution_count": 24,
     "metadata": {},
     "output_type": "execute_result"
    }
   ],
   "source": [
    "name = \"revathi selvakumar\"\n",
    "name.capitalize()\n"
   ]
  },
  {
   "cell_type": "code",
   "execution_count": 26,
   "id": "e7e693a4-69b3-4fd9-a5b9-f1eb08f1e07d",
   "metadata": {},
   "outputs": [
    {
     "data": {
      "text/plain": [
       "'Revathi Selvakumar'"
      ]
     },
     "execution_count": 26,
     "metadata": {},
     "output_type": "execute_result"
    }
   ],
   "source": [
    "name.title()"
   ]
  },
  {
   "cell_type": "code",
   "execution_count": 28,
   "id": "b578b20a-1123-46fe-88a1-eb9dd68ee4cc",
   "metadata": {},
   "outputs": [
    {
     "data": {
      "text/plain": [
       "'REVATHI SELVAKUMAR'"
      ]
     },
     "execution_count": 28,
     "metadata": {},
     "output_type": "execute_result"
    }
   ],
   "source": [
    "name.upper()\n"
   ]
  },
  {
   "cell_type": "code",
   "execution_count": 30,
   "id": "b8640277-06f5-4eb2-a42a-71b6b5542708",
   "metadata": {},
   "outputs": [
    {
     "data": {
      "text/plain": [
       "'revathi selvakumar'"
      ]
     },
     "execution_count": 30,
     "metadata": {},
     "output_type": "execute_result"
    }
   ],
   "source": [
    "name.lower()"
   ]
  },
  {
   "cell_type": "code",
   "execution_count": 32,
   "id": "c508718a-cfab-4c58-a2f5-24d4715d3bc3",
   "metadata": {},
   "outputs": [
    {
     "data": {
      "text/plain": [
       "\u001b[1;31mDocstring:\u001b[0m\n",
       "S.find(sub[, start[, end]]) -> int\n",
       "\n",
       "Return the lowest index in S where substring sub is found,\n",
       "such that sub is contained within S[start:end].  Optional\n",
       "arguments start and end are interpreted as in slice notation.\n",
       "\n",
       "Return -1 on failure.\n",
       "\u001b[1;31mType:\u001b[0m      builtin_function_or_method"
      ]
     },
     "metadata": {},
     "output_type": "display_data"
    }
   ],
   "source": [
    "name.find?\n",
    "\n"
   ]
  },
  {
   "cell_type": "code",
   "execution_count": 34,
   "id": "7b261477-8837-4ec6-8e76-933fcf8f58e9",
   "metadata": {},
   "outputs": [
    {
     "data": {
      "text/plain": [
       "-1"
      ]
     },
     "execution_count": 34,
     "metadata": {},
     "output_type": "execute_result"
    }
   ],
   "source": [
    "name.find(\"R\")"
   ]
  },
  {
   "cell_type": "code",
   "execution_count": 36,
   "id": "252cd2fd-b50c-4118-80f6-7ee0d4934357",
   "metadata": {},
   "outputs": [
    {
     "data": {
      "text/plain": [
       "0"
      ]
     },
     "execution_count": 36,
     "metadata": {},
     "output_type": "execute_result"
    }
   ],
   "source": [
    "name.count(\"R\")"
   ]
  },
  {
   "cell_type": "code",
   "execution_count": 38,
   "id": "f232680e-e70c-4580-8d8b-b50e22c834b3",
   "metadata": {},
   "outputs": [
    {
     "data": {
      "text/plain": [
       "3"
      ]
     },
     "execution_count": 38,
     "metadata": {},
     "output_type": "execute_result"
    }
   ],
   "source": [
    "name.index(\"a\")"
   ]
  },
  {
   "cell_type": "code",
   "execution_count": 54,
   "id": "41eb6222-ee20-457f-b6fd-976696ac2da8",
   "metadata": {},
   "outputs": [
    {
     "data": {
      "text/plain": [
       "'Revathi selvakumaR'"
      ]
     },
     "execution_count": 54,
     "metadata": {},
     "output_type": "execute_result"
    }
   ],
   "source": [
    "name.replace(\"r\" ,\"R\")"
   ]
  },
  {
   "cell_type": "code",
   "execution_count": 56,
   "id": "d9304378-705d-4c54-9780-cd122a6eb01f",
   "metadata": {},
   "outputs": [
    {
     "data": {
      "text/plain": [
       "['revathi', 'selvakumar']"
      ]
     },
     "execution_count": 56,
     "metadata": {},
     "output_type": "execute_result"
    }
   ],
   "source": [
    "name.split()"
   ]
  },
  {
   "cell_type": "code",
   "execution_count": 58,
   "id": "79e0f63b-cf3e-4c20-8c29-0216919f8740",
   "metadata": {},
   "outputs": [
    {
     "data": {
      "text/plain": [
       "['rev', 'thi selv', 'kum', 'r']"
      ]
     },
     "execution_count": 58,
     "metadata": {},
     "output_type": "execute_result"
    }
   ],
   "source": [
    "name.split(\"a\")"
   ]
  },
  {
   "cell_type": "code",
   "execution_count": 60,
   "id": "81890e9e-4a78-4bd8-854d-e593ece34018",
   "metadata": {},
   "outputs": [
    {
     "data": {
      "text/plain": [
       "False"
      ]
     },
     "execution_count": 60,
     "metadata": {},
     "output_type": "execute_result"
    }
   ],
   "source": [
    "name = \"revathi\"\n",
    "name.isupper()"
   ]
  },
  {
   "cell_type": "code",
   "execution_count": 62,
   "id": "fa6fb44a-4948-4e94-b699-9e831c1ce978",
   "metadata": {},
   "outputs": [
    {
     "data": {
      "text/plain": [
       "True"
      ]
     },
     "execution_count": 62,
     "metadata": {},
     "output_type": "execute_result"
    }
   ],
   "source": [
    "name.islower()"
   ]
  },
  {
   "cell_type": "code",
   "execution_count": 64,
   "id": "ec62570b-61d0-410d-b750-7919ac1c5c2b",
   "metadata": {},
   "outputs": [
    {
     "data": {
      "text/plain": [
       "True"
      ]
     },
     "execution_count": 64,
     "metadata": {},
     "output_type": "execute_result"
    }
   ],
   "source": [
    "\"1\".isnumeric()"
   ]
  },
  {
   "cell_type": "code",
   "execution_count": null,
   "id": "dceaf15b-9429-42d8-a52e-efb4f43e998c",
   "metadata": {},
   "outputs": [],
   "source": []
  }
 ],
 "metadata": {
  "kernelspec": {
   "display_name": "Python 3 (ipykernel)",
   "language": "python",
   "name": "python3"
  },
  "language_info": {
   "codemirror_mode": {
    "name": "ipython",
    "version": 3
   },
   "file_extension": ".py",
   "mimetype": "text/x-python",
   "name": "python",
   "nbconvert_exporter": "python",
   "pygments_lexer": "ipython3",
   "version": "3.11.7"
  }
 },
 "nbformat": 4,
 "nbformat_minor": 5
}
