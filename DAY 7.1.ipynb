{
 "cells": [
  {
   "cell_type": "code",
   "execution_count": 3,
   "id": "54315625-320a-4e76-bc86-e8ef60108136",
   "metadata": {},
   "outputs": [
    {
     "name": "stdout",
     "output_type": "stream",
     "text": [
      "my name is Rahul . my age is 25\n"
     ]
    }
   ],
   "source": [
    "name= \"Rahul\"\n",
    "age = 25\n",
    "\n",
    "print(\"my name is {} . my age is {}\".format(name,age))\n"
   ]
  },
  {
   "cell_type": "code",
   "execution_count": 7,
   "id": "d378a95d-f241-4920-bf84-e297e7a0294e",
   "metadata": {},
   "outputs": [
    {
     "name": "stdout",
     "output_type": "stream",
     "text": [
      "my name is Rahul . my age is 25\n"
     ]
    }
   ],
   "source": [
    "name= \"Rahul\"\n",
    "age = 25\n",
    "\n",
    "print(f\"my name is {name} . my age is {age}\")\n"
   ]
  },
  {
   "cell_type": "code",
   "execution_count": 13,
   "id": "f800d569-d305-48cc-951a-683a01f64d13",
   "metadata": {},
   "outputs": [
    {
     "name": "stdout",
     "output_type": "stream",
     "text": [
      "u a e e e a o u e u e "
     ]
    }
   ],
   "source": [
    "text = \"This is just a friendly reminder that your scheduled\"\n",
    "\n",
    "for i in text:\n",
    "    if i == \"a\" or i == \"e\" or i == \"o\" or i == \"u\":\n",
    "        print(i , end = \" \")"
   ]
  },
  {
   "cell_type": "code",
   "execution_count": 15,
   "id": "2582b36f-54bb-45ad-a336-6e40f15de590",
   "metadata": {},
   "outputs": [
    {
     "data": {
      "text/plain": [
       "'luhar'"
      ]
     },
     "execution_count": 15,
     "metadata": {},
     "output_type": "execute_result"
    }
   ],
   "source": [
    "s =\"rahul\"\n",
    "\n",
    "s[::-1]"
   ]
  },
  {
   "cell_type": "code",
   "execution_count": 17,
   "id": "c54a190e-2268-4902-b479-cc4616607357",
   "metadata": {},
   "outputs": [
    {
     "name": "stdout",
     "output_type": "stream",
     "text": [
      "<class 'list'>\n"
     ]
    }
   ],
   "source": [
    "l = list()\n",
    "print(type(l))"
   ]
  },
  {
   "cell_type": "code",
   "execution_count": null,
   "id": "8b42935b-9ed3-49f0-b03f-69b69e8dad00",
   "metadata": {},
   "outputs": [],
   "source": []
  }
 ],
 "metadata": {
  "kernelspec": {
   "display_name": "Python 3 (ipykernel)",
   "language": "python",
   "name": "python3"
  },
  "language_info": {
   "codemirror_mode": {
    "name": "ipython",
    "version": 3
   },
   "file_extension": ".py",
   "mimetype": "text/x-python",
   "name": "python",
   "nbconvert_exporter": "python",
   "pygments_lexer": "ipython3",
   "version": "3.11.7"
  }
 },
 "nbformat": 4,
 "nbformat_minor": 5
}
