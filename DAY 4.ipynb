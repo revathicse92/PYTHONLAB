{
 "cells": [
  {
   "cell_type": "code",
   "execution_count": 1,
   "id": "584d4d99-b6d8-41ec-891b-a0441c645a35",
   "metadata": {},
   "outputs": [
    {
     "name": "stdin",
     "output_type": "stream",
     "text": [
      " revathi\n"
     ]
    }
   ],
   "source": [
    "name = input()"
   ]
  },
  {
   "cell_type": "code",
   "execution_count": 2,
   "id": "7ba740ec-9e12-43c4-953b-efbc4722480f",
   "metadata": {},
   "outputs": [
    {
     "name": "stdout",
     "output_type": "stream",
     "text": [
      "revathi\n"
     ]
    }
   ],
   "source": [
    "print(name)"
   ]
  },
  {
   "cell_type": "code",
   "execution_count": 5,
   "id": "91db7c34-2225-442c-9d70-a9e9a2543730",
   "metadata": {},
   "outputs": [
    {
     "name": "stdout",
     "output_type": "stream",
     "text": [
      "<class 'str'>\n"
     ]
    }
   ],
   "source": [
    "print(type(name))\n"
   ]
  },
  {
   "cell_type": "code",
   "execution_count": null,
   "id": "231ea45d-9cb0-4847-8125-a5b4e4623b75",
   "metadata": {},
   "outputs": [],
   "source": [
    "#Number as input\n"
   ]
  },
  {
   "cell_type": "code",
   "execution_count": 9,
   "id": "4e6afdc7-56f6-49bd-8903-753a6392304b",
   "metadata": {},
   "outputs": [
    {
     "name": "stdin",
     "output_type": "stream",
     "text": [
      " 1.5\n"
     ]
    }
   ],
   "source": [
    "x = input()\n"
   ]
  },
  {
   "cell_type": "code",
   "execution_count": 10,
   "id": "266d3216-daf7-4664-93d3-358166fe8056",
   "metadata": {},
   "outputs": [
    {
     "name": "stdout",
     "output_type": "stream",
     "text": [
      "1.5\n"
     ]
    }
   ],
   "source": [
    "print(x)"
   ]
  },
  {
   "cell_type": "code",
   "execution_count": 11,
   "id": "fa237127-add1-4c56-9612-ec71b444623c",
   "metadata": {},
   "outputs": [
    {
     "name": "stdout",
     "output_type": "stream",
     "text": [
      "<class 'str'>\n"
     ]
    }
   ],
   "source": [
    "print(type(x))"
   ]
  },
  {
   "cell_type": "code",
   "execution_count": 12,
   "id": "069c8838-dbf8-481d-ab22-77e2f7208041",
   "metadata": {},
   "outputs": [
    {
     "data": {
      "text/plain": [
       "'1.5'"
      ]
     },
     "execution_count": 12,
     "metadata": {},
     "output_type": "execute_result"
    }
   ],
   "source": [
    "x"
   ]
  },
  {
   "cell_type": "code",
   "execution_count": 13,
   "id": "c2ebe9e7-a489-403d-9eab-a9a5a20cb2d8",
   "metadata": {},
   "outputs": [],
   "source": [
    "y = float(x)"
   ]
  },
  {
   "cell_type": "code",
   "execution_count": 14,
   "id": "9a9d75da-466e-4dab-8e15-a2ef86d5c385",
   "metadata": {},
   "outputs": [
    {
     "name": "stdout",
     "output_type": "stream",
     "text": [
      "1.5\n",
      "<class 'float'>\n"
     ]
    }
   ],
   "source": [
    "print(y)\n",
    "print(type(y))"
   ]
  },
  {
   "cell_type": "code",
   "execution_count": 15,
   "id": "c0b5b9fb-2d1a-4baf-9590-5cb9019f277e",
   "metadata": {},
   "outputs": [
    {
     "name": "stdin",
     "output_type": "stream",
     "text": [
      " 5\n"
     ]
    }
   ],
   "source": [
    "x = input()"
   ]
  },
  {
   "cell_type": "code",
   "execution_count": 16,
   "id": "5c965fce-4858-460d-9690-af9fb830451b",
   "metadata": {},
   "outputs": [
    {
     "data": {
      "text/plain": [
       "str"
      ]
     },
     "execution_count": 16,
     "metadata": {},
     "output_type": "execute_result"
    }
   ],
   "source": [
    "type(x)"
   ]
  },
  {
   "cell_type": "code",
   "execution_count": 17,
   "id": "aaf1f68a-8424-4fe7-b040-54968165bda5",
   "metadata": {},
   "outputs": [
    {
     "name": "stdout",
     "output_type": "stream",
     "text": [
      "5\n",
      "<class 'int'>\n"
     ]
    }
   ],
   "source": [
    "b = int(x)\n",
    "print(b)\n",
    "print(type(b))"
   ]
  },
  {
   "cell_type": "code",
   "execution_count": 18,
   "id": "4c89c17b-0bf2-4818-b356-9906728b50ce",
   "metadata": {},
   "outputs": [
    {
     "data": {
      "text/plain": [
       "'revathi'"
      ]
     },
     "execution_count": 18,
     "metadata": {},
     "output_type": "execute_result"
    }
   ],
   "source": [
    "name"
   ]
  },
  {
   "cell_type": "code",
   "execution_count": 19,
   "id": "027c4f2d-9d2f-42cb-a43d-1dd78efa81d4",
   "metadata": {},
   "outputs": [],
   "source": [
    "c= float(\"1.5\")"
   ]
  },
  {
   "cell_type": "code",
   "execution_count": 20,
   "id": "f9e5b739-b9fe-43df-9b1c-47bfb13f6d4a",
   "metadata": {},
   "outputs": [
    {
     "name": "stdout",
     "output_type": "stream",
     "text": [
      "<class 'float'>\n"
     ]
    }
   ],
   "source": [
    "print(type(c))"
   ]
  },
  {
   "cell_type": "code",
   "execution_count": 21,
   "id": "db46acfa-3e5b-403e-8665-ba63b433745f",
   "metadata": {},
   "outputs": [
    {
     "data": {
      "text/plain": [
       "1"
      ]
     },
     "execution_count": 21,
     "metadata": {},
     "output_type": "execute_result"
    }
   ],
   "source": [
    "int(c)"
   ]
  },
  {
   "cell_type": "code",
   "execution_count": 22,
   "id": "fd9dc0cd-27e2-40cb-aae8-bcb713baa6e6",
   "metadata": {},
   "outputs": [
    {
     "ename": "NameError",
     "evalue": "name 'rahul' is not defined",
     "output_type": "error",
     "traceback": [
      "\u001b[1;31m---------------------------------------------------------------------------\u001b[0m",
      "\u001b[1;31mNameError\u001b[0m                                 Traceback (most recent call last)",
      "Cell \u001b[1;32mIn[22], line 1\u001b[0m\n\u001b[1;32m----> 1\u001b[0m \u001b[38;5;28mprint\u001b[39m(rahul)\n",
      "\u001b[1;31mNameError\u001b[0m: name 'rahul' is not defined"
     ]
    }
   ],
   "source": [
    "print(rahul)"
   ]
  },
  {
   "cell_type": "code",
   "execution_count": 23,
   "id": "f8c4a903-ffd1-44c2-9be8-aabb20e6ce2f",
   "metadata": {},
   "outputs": [
    {
     "ename": "SyntaxError",
     "evalue": "incomplete input (239846074.py, line 1)",
     "output_type": "error",
     "traceback": [
      "\u001b[1;36m  Cell \u001b[1;32mIn[23], line 1\u001b[1;36m\u001b[0m\n\u001b[1;33m    print(\"rahul\"\u001b[0m\n\u001b[1;37m                 ^\u001b[0m\n\u001b[1;31mSyntaxError\u001b[0m\u001b[1;31m:\u001b[0m incomplete input\n"
     ]
    }
   ],
   "source": [
    "print(\"rahul\""
   ]
  },
  {
   "cell_type": "code",
   "execution_count": 24,
   "id": "792fb379-27be-4d91-8529-0e494ee1a5e2",
   "metadata": {},
   "outputs": [
    {
     "name": "stdout",
     "output_type": "stream",
     "text": [
      "revathi\n"
     ]
    }
   ],
   "source": [
    "print(\"revathi\")"
   ]
  },
  {
   "cell_type": "code",
   "execution_count": 25,
   "id": "b0cf997e-51b4-4570-b292-0cdf9594ad68",
   "metadata": {},
   "outputs": [
    {
     "name": "stdout",
     "output_type": "stream",
     "text": [
      "revathi selva santhosh 1.5 26\n"
     ]
    }
   ],
   "source": [
    "print(\"revathi\",\"selva\",\"santhosh\",1.5,26,)"
   ]
  },
  {
   "cell_type": "code",
   "execution_count": 26,
   "id": "1492ebe2-8f98-4b81-b8bf-f0c20ec93fb8",
   "metadata": {},
   "outputs": [
    {
     "data": {
      "text/plain": [
       "\u001b[1;31mSignature:\u001b[0m \u001b[0mprint\u001b[0m\u001b[1;33m(\u001b[0m\u001b[1;33m*\u001b[0m\u001b[0margs\u001b[0m\u001b[1;33m,\u001b[0m \u001b[0msep\u001b[0m\u001b[1;33m=\u001b[0m\u001b[1;34m' '\u001b[0m\u001b[1;33m,\u001b[0m \u001b[0mend\u001b[0m\u001b[1;33m=\u001b[0m\u001b[1;34m'\\n'\u001b[0m\u001b[1;33m,\u001b[0m \u001b[0mfile\u001b[0m\u001b[1;33m=\u001b[0m\u001b[1;32mNone\u001b[0m\u001b[1;33m,\u001b[0m \u001b[0mflush\u001b[0m\u001b[1;33m=\u001b[0m\u001b[1;32mFalse\u001b[0m\u001b[1;33m)\u001b[0m\u001b[1;33m\u001b[0m\u001b[1;33m\u001b[0m\u001b[0m\n",
       "\u001b[1;31mDocstring:\u001b[0m\n",
       "Prints the values to a stream, or to sys.stdout by default.\n",
       "\n",
       "sep\n",
       "  string inserted between values, default a space.\n",
       "end\n",
       "  string appended after the last value, default a newline.\n",
       "file\n",
       "  a file-like object (stream); defaults to the current sys.stdout.\n",
       "flush\n",
       "  whether to forcibly flush the stream.\n",
       "\u001b[1;31mType:\u001b[0m      builtin_function_or_method"
      ]
     },
     "metadata": {},
     "output_type": "display_data"
    }
   ],
   "source": [
    "print?\n"
   ]
  },
  {
   "cell_type": "code",
   "execution_count": 27,
   "id": "9a068205-18aa-47d5-8121-27e749410fe7",
   "metadata": {},
   "outputs": [
    {
     "name": "stdout",
     "output_type": "stream",
     "text": [
      "revathi,selva,santhosh,1.5,26\n"
     ]
    }
   ],
   "source": [
    "print(\"revathi\",\"selva\",\"santhosh\",1.5,26,sep=\",\")"
   ]
  },
  {
   "cell_type": "code",
   "execution_count": 28,
   "id": "b3cfb777-4a0d-41ef-9763-769ff7b9e34e",
   "metadata": {},
   "outputs": [
    {
     "name": "stdout",
     "output_type": "stream",
     "text": [
      "revathi_selva_santhosh_1.5_26\n"
     ]
    }
   ],
   "source": [
    "print(\"revathi\",\"selva\",\"santhosh\",1.5,26,sep=\"_\")"
   ]
  },
  {
   "cell_type": "code",
   "execution_count": 29,
   "id": "8e96f46a-ef3c-4461-a307-fbbdf4395b9d",
   "metadata": {},
   "outputs": [
    {
     "name": "stdout",
     "output_type": "stream",
     "text": [
      "revathi->selva->santhosh->1.5->26\n"
     ]
    }
   ],
   "source": [
    "print(\"revathi\",\"selva\",\"santhosh\",1.5,26,sep=\"->\")"
   ]
  },
  {
   "cell_type": "code",
   "execution_count": 30,
   "id": "ad7cec8d-cfaf-4f9f-9a6e-5b1e146edd59",
   "metadata": {},
   "outputs": [
    {
     "name": "stdout",
     "output_type": "stream",
     "text": [
      "revathi\n",
      "selva\n",
      "santhosh\n",
      "1.5\n",
      "26\n"
     ]
    }
   ],
   "source": [
    "print(\"revathi\",\"selva\",\"santhosh\",1.5,26,sep=\"\\n\")"
   ]
  },
  {
   "cell_type": "code",
   "execution_count": 31,
   "id": "45c2a07d-8353-479f-a9c5-f3dc31582694",
   "metadata": {},
   "outputs": [
    {
     "name": "stdout",
     "output_type": "stream",
     "text": [
      "revathi\n",
      "selva\n",
      "santhosh\n",
      "1.5\n",
      "26 "
     ]
    }
   ],
   "source": [
    "print(\"revathi\",\"selva\",\"santhosh\",1.5,26,sep=\"\\n\",end=\" \")"
   ]
  },
  {
   "cell_type": "code",
   "execution_count": 32,
   "id": "84b89599-f0c9-4d25-ba80-790833d458f1",
   "metadata": {},
   "outputs": [
    {
     "name": "stdout",
     "output_type": "stream",
     "text": [
      "revathi selva santhosh 1.5 26 "
     ]
    }
   ],
   "source": [
    "print(\"revathi\",\"selva\",\"santhosh\",1.5,26,end=\" \")"
   ]
  },
  {
   "cell_type": "code",
   "execution_count": 33,
   "id": "26fb44d5-c0fe-4846-97ce-c9813285f6cf",
   "metadata": {},
   "outputs": [
    {
     "name": "stdout",
     "output_type": "stream",
     "text": [
      "revathi\n",
      "selva\n",
      "santhosh\n",
      "1.5\n",
      "26->"
     ]
    }
   ],
   "source": [
    "print(\"revathi\",\"selva\",\"santhosh\",1.5,26,sep=\"\\n\",end=\"->\")"
   ]
  },
  {
   "cell_type": "code",
   "execution_count": 1,
   "id": "ac389c51-37f6-4382-8f0c-0c2e703df87a",
   "metadata": {},
   "outputs": [],
   "source": [
    "a=5\n",
    "b=3\n",
    "\n",
    "\n",
    "    "
   ]
  },
  {
   "cell_type": "code",
   "execution_count": 3,
   "id": "8dcca5ca-bb87-459e-aa51-d3686dab4011",
   "metadata": {},
   "outputs": [
    {
     "data": {
      "text/plain": [
       "8"
      ]
     },
     "execution_count": 3,
     "metadata": {},
     "output_type": "execute_result"
    }
   ],
   "source": [
    "a+b"
   ]
  },
  {
   "cell_type": "code",
   "execution_count": 5,
   "id": "7121d6a5-5d27-4cff-9581-72b0fcc73d6d",
   "metadata": {},
   "outputs": [
    {
     "data": {
      "text/plain": [
       "2"
      ]
     },
     "execution_count": 5,
     "metadata": {},
     "output_type": "execute_result"
    }
   ],
   "source": [
    "a-b\n"
   ]
  },
  {
   "cell_type": "code",
   "execution_count": 7,
   "id": "eaa3c5ac-7a01-4e83-9ce9-8705f2936be6",
   "metadata": {},
   "outputs": [
    {
     "data": {
      "text/plain": [
       "15"
      ]
     },
     "execution_count": 7,
     "metadata": {},
     "output_type": "execute_result"
    }
   ],
   "source": [
    "a*b"
   ]
  },
  {
   "cell_type": "code",
   "execution_count": 9,
   "id": "d18561d9-46b6-40e7-a1b5-49255a8845a4",
   "metadata": {},
   "outputs": [
    {
     "data": {
      "text/plain": [
       "1.6666666666666667"
      ]
     },
     "execution_count": 9,
     "metadata": {},
     "output_type": "execute_result"
    }
   ],
   "source": [
    "a/b"
   ]
  },
  {
   "cell_type": "code",
   "execution_count": 11,
   "id": "51c2df4b-dd08-4a51-b7e4-07c503b7b636",
   "metadata": {},
   "outputs": [],
   "source": [
    "first=\"revathi\"\n",
    "last=\"selva\"\n"
   ]
  },
  {
   "cell_type": "code",
   "execution_count": 13,
   "id": "0ec7517c-1b84-4b19-9943-b7d887e83717",
   "metadata": {},
   "outputs": [
    {
     "name": "stdout",
     "output_type": "stream",
     "text": [
      "revathiselva\n"
     ]
    }
   ],
   "source": [
    "print(first + last)"
   ]
  },
  {
   "cell_type": "code",
   "execution_count": 15,
   "id": "2cef2892-d20e-46e1-810f-6bbeaa2473fb",
   "metadata": {},
   "outputs": [
    {
     "data": {
      "text/plain": [
       "int"
      ]
     },
     "execution_count": 15,
     "metadata": {},
     "output_type": "execute_result"
    }
   ],
   "source": [
    "type(1)"
   ]
  },
  {
   "cell_type": "code",
   "execution_count": 17,
   "id": "c8dae1eb-4fa4-4d64-a80c-e4c629e56384",
   "metadata": {},
   "outputs": [
    {
     "data": {
      "text/plain": [
       "str"
      ]
     },
     "execution_count": 17,
     "metadata": {},
     "output_type": "execute_result"
    }
   ],
   "source": [
    "type(\"1\")"
   ]
  },
  {
   "cell_type": "code",
   "execution_count": 19,
   "id": "0e3301a6-f281-4839-9a6c-519d6062feec",
   "metadata": {},
   "outputs": [
    {
     "name": "stdout",
     "output_type": "stream",
     "text": [
      "11\n"
     ]
    }
   ],
   "source": [
    "print(\"1\"+\"1\")"
   ]
  },
  {
   "cell_type": "code",
   "execution_count": 21,
   "id": "8c595ee3-3ca5-45ac-8b6e-87ece067576c",
   "metadata": {},
   "outputs": [],
   "source": [
    "a =5\n",
    "b=3\n"
   ]
  },
  {
   "cell_type": "code",
   "execution_count": 23,
   "id": "ff0f998a-bba9-4297-a8b5-e5b3b93743dd",
   "metadata": {},
   "outputs": [
    {
     "name": "stdout",
     "output_type": "stream",
     "text": [
      "2\n"
     ]
    }
   ],
   "source": [
    "print(a%b)"
   ]
  },
  {
   "cell_type": "code",
   "execution_count": 1,
   "id": "fe3028d8-90b6-4677-8498-9fcde16e5d4c",
   "metadata": {},
   "outputs": [
    {
     "ename": "NameError",
     "evalue": "name 'a' is not defined",
     "output_type": "error",
     "traceback": [
      "\u001b[1;31m---------------------------------------------------------------------------\u001b[0m",
      "\u001b[1;31mNameError\u001b[0m                                 Traceback (most recent call last)",
      "Cell \u001b[1;32mIn[1], line 1\u001b[0m\n\u001b[1;32m----> 1\u001b[0m \u001b[38;5;28mprint\u001b[39m(a\u001b[38;5;241m/\u001b[39m\u001b[38;5;241m/\u001b[39mb)\n",
      "\u001b[1;31mNameError\u001b[0m: name 'a' is not defined"
     ]
    }
   ],
   "source": [
    "print(a//b)"
   ]
  },
  {
   "cell_type": "code",
   "execution_count": 3,
   "id": "20a7a715-47ce-4ae4-b399-5e7535e22e77",
   "metadata": {},
   "outputs": [],
   "source": [
    "a=1\n",
    "b=2\n"
   ]
  },
  {
   "cell_type": "code",
   "execution_count": 5,
   "id": "f11ff2b7-c2b7-45e1-8828-f54e479572f6",
   "metadata": {},
   "outputs": [
    {
     "name": "stdout",
     "output_type": "stream",
     "text": [
      "0\n"
     ]
    }
   ],
   "source": [
    "print(a // b)"
   ]
  },
  {
   "cell_type": "code",
   "execution_count": 7,
   "id": "5286984d-f15c-4bc3-9348-9bf5b1319864",
   "metadata": {},
   "outputs": [],
   "source": [
    "a=3\n",
    "b=2\n"
   ]
  },
  {
   "cell_type": "code",
   "execution_count": 9,
   "id": "78f86529-fc23-4411-9dfe-5ae647987221",
   "metadata": {},
   "outputs": [
    {
     "name": "stdout",
     "output_type": "stream",
     "text": [
      "-2\n"
     ]
    }
   ],
   "source": [
    "print(-3 // 2)"
   ]
  },
  {
   "cell_type": "code",
   "execution_count": 11,
   "id": "aec9e6b9-ffe5-4c36-b773-16e3ac5f4d85",
   "metadata": {},
   "outputs": [
    {
     "name": "stdout",
     "output_type": "stream",
     "text": [
      "9\n"
     ]
    }
   ],
   "source": [
    "print (a ** b)"
   ]
  },
  {
   "cell_type": "code",
   "execution_count": 15,
   "id": "8e2212c8-e184-416e-8b67-f3c09776e17d",
   "metadata": {},
   "outputs": [
    {
     "name": "stdout",
     "output_type": "stream",
     "text": [
      "1024\n"
     ]
    }
   ],
   "source": [
    "print(4 ** 5)\n"
   ]
  },
  {
   "cell_type": "code",
   "execution_count": 17,
   "id": "d7b420c8-f0ae-4d13-a388-fc71d8028c17",
   "metadata": {},
   "outputs": [],
   "source": [
    "a=6\n",
    "b=4\n"
   ]
  },
  {
   "cell_type": "code",
   "execution_count": 19,
   "id": "600212e3-3f02-44c6-aaaf-c9ba9445b963",
   "metadata": {},
   "outputs": [
    {
     "name": "stdout",
     "output_type": "stream",
     "text": [
      "False\n"
     ]
    }
   ],
   "source": [
    "print(a == b)"
   ]
  },
  {
   "cell_type": "code",
   "execution_count": 21,
   "id": "1c4b2f5b-daaf-4d30-9e5b-7ac2c723d505",
   "metadata": {},
   "outputs": [
    {
     "name": "stdout",
     "output_type": "stream",
     "text": [
      "True\n"
     ]
    }
   ],
   "source": [
    "print (3 == 3)"
   ]
  },
  {
   "cell_type": "code",
   "execution_count": 23,
   "id": "1352dc1d-8c2b-4c41-b35f-fc51faaba844",
   "metadata": {},
   "outputs": [
    {
     "ename": "SyntaxError",
     "evalue": "invalid syntax (2504719300.py, line 1)",
     "output_type": "error",
     "traceback": [
      "\u001b[1;36m  Cell \u001b[1;32mIn[23], line 1\u001b[1;36m\u001b[0m\n\u001b[1;33m    print (a ! = b)\u001b[0m\n\u001b[1;37m             ^\u001b[0m\n\u001b[1;31mSyntaxError\u001b[0m\u001b[1;31m:\u001b[0m invalid syntax\n"
     ]
    }
   ],
   "source": [
    "print (a ! = b)"
   ]
  },
  {
   "cell_type": "code",
   "execution_count": 27,
   "id": "c3653fde-bab1-4c91-9dfa-b6f991d4173e",
   "metadata": {},
   "outputs": [
    {
     "name": "stdout",
     "output_type": "stream",
     "text": [
      "True\n"
     ]
    }
   ],
   "source": [
    "print(a != b)"
   ]
  },
  {
   "cell_type": "code",
   "execution_count": 29,
   "id": "59847353-4a96-48d4-a2ad-5875b15e31bd",
   "metadata": {},
   "outputs": [
    {
     "name": "stdout",
     "output_type": "stream",
     "text": [
      "True\n"
     ]
    }
   ],
   "source": [
    "print(a>b)"
   ]
  },
  {
   "cell_type": "code",
   "execution_count": 31,
   "id": "de1afde3-e289-421f-9193-30508e7b84b1",
   "metadata": {},
   "outputs": [
    {
     "name": "stdout",
     "output_type": "stream",
     "text": [
      "False\n"
     ]
    }
   ],
   "source": [
    "print(a<b)"
   ]
  },
  {
   "cell_type": "code",
   "execution_count": 33,
   "id": "9145628b-5136-4ef1-9ab1-d56515e52ca7",
   "metadata": {},
   "outputs": [
    {
     "name": "stdout",
     "output_type": "stream",
     "text": [
      "True\n"
     ]
    }
   ],
   "source": [
    "print(4>=2)"
   ]
  },
  {
   "cell_type": "code",
   "execution_count": 35,
   "id": "e4c6b0a4-6fb3-4645-bc90-a690ce92e54f",
   "metadata": {},
   "outputs": [
    {
     "name": "stdout",
     "output_type": "stream",
     "text": [
      "True\n"
     ]
    }
   ],
   "source": [
    "print(4>=4)"
   ]
  },
  {
   "cell_type": "code",
   "execution_count": 37,
   "id": "5bf29c94-846b-4e86-8e8b-1100072f9af7",
   "metadata": {},
   "outputs": [
    {
     "name": "stdout",
     "output_type": "stream",
     "text": [
      "True\n"
     ]
    }
   ],
   "source": [
    "print(4<=7)"
   ]
  },
  {
   "cell_type": "code",
   "execution_count": 39,
   "id": "7c82ad07-e7d4-4832-bdea-bba528c9d746",
   "metadata": {},
   "outputs": [
    {
     "name": "stdout",
     "output_type": "stream",
     "text": [
      "False\n"
     ]
    }
   ],
   "source": [
    "print(4>=7)"
   ]
  },
  {
   "cell_type": "code",
   "execution_count": 41,
   "id": "b87412ab-1a10-4072-9d69-1971da8ad1ad",
   "metadata": {},
   "outputs": [
    {
     "name": "stdout",
     "output_type": "stream",
     "text": [
      "8\n"
     ]
    }
   ],
   "source": [
    "a=5\n",
    "a=a+3\n",
    "print(a)"
   ]
  },
  {
   "cell_type": "code",
   "execution_count": 49,
   "id": "690834d6-b267-4dc8-8acb-d85fd6d81f94",
   "metadata": {},
   "outputs": [
    {
     "data": {
      "text/plain": [
       "False"
      ]
     },
     "execution_count": 49,
     "metadata": {},
     "output_type": "execute_result"
    }
   ],
   "source": [
    "False and True\n"
   ]
  },
  {
   "cell_type": "code",
   "execution_count": 51,
   "id": "2291fea5-cc0c-4d3e-9be4-36e598641df7",
   "metadata": {},
   "outputs": [
    {
     "data": {
      "text/plain": [
       "True"
      ]
     },
     "execution_count": 51,
     "metadata": {},
     "output_type": "execute_result"
    }
   ],
   "source": [
    "4>2 and 3>2"
   ]
  },
  {
   "cell_type": "code",
   "execution_count": 53,
   "id": "d376251a-bfae-41fb-bb69-f80c8fd9b712",
   "metadata": {},
   "outputs": [
    {
     "data": {
      "text/plain": [
       "False"
      ]
     },
     "execution_count": 53,
     "metadata": {},
     "output_type": "execute_result"
    }
   ],
   "source": [
    "4<2 and 3<2"
   ]
  },
  {
   "cell_type": "code",
   "execution_count": 9,
   "id": "02cec892-e865-45f7-9c6e-6874aa31aeb0",
   "metadata": {},
   "outputs": [],
   "source": [
    "\n",
    "from math import pi\n",
    "\n",
    "def volume(radius):\n",
    "    return radius**3 * pi *4/3\n",
    "\n",
    "    \n",
    "    "
   ]
  },
  {
   "cell_type": "code",
   "execution_count": 11,
   "id": "4669e6ff-72f1-4562-8e4f-544a43536cb0",
   "metadata": {},
   "outputs": [
    {
     "name": "stdout",
     "output_type": "stream",
     "text": [
      "904.7786842338604\n"
     ]
    }
   ],
   "source": [
    "print(volume(6))\n"
   ]
  },
  {
   "cell_type": "code",
   "execution_count": 19,
   "id": "c70c8466-df0e-49dc-a226-b9619f9f88d0",
   "metadata": {},
   "outputs": [
    {
     "name": "stdout",
     "output_type": "stream",
     "text": [
      "AB\n"
     ]
    }
   ],
   "source": [
    "c = \"A\"\n",
    "d = \"B\"\n",
    "\n",
    "print(c + d)"
   ]
  },
  {
   "cell_type": "code",
   "execution_count": 25,
   "id": "eb6aae77-fd04-4314-a78c-bc6ac9d1e8c7",
   "metadata": {},
   "outputs": [],
   "source": [
    "a=6\n",
    "b=3\n"
   ]
  },
  {
   "cell_type": "code",
   "execution_count": 29,
   "id": "7360fbcb-bbe2-4049-b6d0-8e2abed5891b",
   "metadata": {},
   "outputs": [
    {
     "name": "stdout",
     "output_type": "stream",
     "text": [
      "2.0\n"
     ]
    }
   ],
   "source": [
    "print(a / b)"
   ]
  },
  {
   "cell_type": "code",
   "execution_count": 31,
   "id": "e4260999-73a3-4aaa-9886-967d2cd92cf4",
   "metadata": {},
   "outputs": [
    {
     "name": "stdout",
     "output_type": "stream",
     "text": [
      "1\n"
     ]
    }
   ],
   "source": [
    "print(0 or 1)"
   ]
  },
  {
   "cell_type": "code",
   "execution_count": 33,
   "id": "855f3e36-d226-41b7-b3bf-974f077abf10",
   "metadata": {},
   "outputs": [],
   "source": [
    "a=2024\n"
   ]
  },
  {
   "cell_type": "code",
   "execution_count": 35,
   "id": "2a00da52-3644-4f19-8d47-4753cba61fe3",
   "metadata": {},
   "outputs": [
    {
     "ename": "IndentationError",
     "evalue": "expected an indented block after function definition on line 7 (2005522472.py, line 8)",
     "output_type": "error",
     "traceback": [
      "\u001b[1;36m  Cell \u001b[1;32mIn[35], line 8\u001b[1;36m\u001b[0m\n\u001b[1;33m    if((y % 400 == 0) or\u001b[0m\n\u001b[1;37m    ^\u001b[0m\n\u001b[1;31mIndentationError\u001b[0m\u001b[1;31m:\u001b[0m expected an indented block after function definition on line 7\n"
     ]
    }
   ],
   "source": [
    "# Python3 implementation to check \n",
    "# if the year is a leap year \n",
    "# using macros\n",
    "\n",
    "# Macro to check if a year \n",
    "# is a leap year\n",
    "def ISLP(y):\n",
    "if((y % 400 == 0) or\n",
    "\t(y % 100 != 0) and\n",
    "\t(y % 4 == 0)): \n",
    "\treturn 1;\n",
    "else:\n",
    "\treturn 0;\n",
    "\n",
    "# Driver code\n",
    "if __name__=='__main__':\n",
    "\n",
    "year = 2020;\n",
    "print(ISLP(year));\n",
    "\n",
    "# This code is contributed by Pratham76.\n",
    "\n"
   ]
  },
  {
   "cell_type": "code",
   "execution_count": 45,
   "id": "aaa31d59-4211-4fd4-a9fb-7ec91904d57f",
   "metadata": {},
   "outputs": [
    {
     "name": "stdout",
     "output_type": "stream",
     "text": [
      "0\n"
     ]
    }
   ],
   "source": [
    "def is_leap_year(A):\n",
    "    if A % 400 == 0:\n",
    "        return 1\n",
    "    elif A % 4 == 0 and A % 100 != 0:\n",
    "        return 1\n",
    "    else:\n",
    "        return 0\n",
    "\n",
    "# Example usage:\n",
    "year = 2023\n",
    "print(is_leap_year(year))  # Output: 1 (2024 is a leap year)\n"
   ]
  },
  {
   "cell_type": "code",
   "execution_count": null,
   "id": "705007e1-930d-4aaf-a711-bf7f4a55fe0c",
   "metadata": {},
   "outputs": [],
   "source": []
  }
 ],
 "metadata": {
  "kernelspec": {
   "display_name": "Python 3 (ipykernel)",
   "language": "python",
   "name": "python3"
  },
  "language_info": {
   "codemirror_mode": {
    "name": "ipython",
    "version": 3
   },
   "file_extension": ".py",
   "mimetype": "text/x-python",
   "name": "python",
   "nbconvert_exporter": "python",
   "pygments_lexer": "ipython3",
   "version": "3.11.7"
  }
 },
 "nbformat": 4,
 "nbformat_minor": 5
}
